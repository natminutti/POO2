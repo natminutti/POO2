{
  "nbformat": 4,
  "nbformat_minor": 0,
  "metadata": {
    "colab": {
      "provenance": []
    },
    "kernelspec": {
      "name": "python3",
      "display_name": "Python 3"
    },
    "language_info": {
      "name": "python"
    }
  },
  "cells": [
    {
      "cell_type": "markdown",
      "source": [
        "## Ejercicios POO"
      ],
      "metadata": {
        "id": "TgBu7yBbjvVR"
      }
    },
    {
      "cell_type": "markdown",
      "source": [
        "\n",
        "\n",
        "1.   Describe cuáles son las diferencias entre clases y objetos.\n",
        "\n",
        "Las clases son contenedores, que tienen objetos, funciones, definiciones, hay clases madres y herencia\n",
        "Objetos: son listas, numeros, palabras, matrices vectores\n",
        "2. Describe por qué usamos self como primer argumento en los métodos.\n",
        "\n",
        "El self es para que la clase herencia llame la informacion de la clase madre, y la clase madre se defina como madre.\n",
        "3. ¿Qué es un constructor? ¿Y por qué lo usamos?\n",
        "\n",
        "Es un metodo de clase especial para crear y asignar un objeto. Se usa para asignar un valor a los objetos.\n",
        "4. Describir las diferencias entre los atributos de clase y de instancia.\n",
        "\n",
        "Una instancia es con lo que defines el objeto ejemplo: def. El objeto es lo que sale de eso, con la instancia defines los objetos\n",
        "5. La siguiente es una definición de la clase Punto que toma las coordenadas x, y. Agregue un método plot_point que trace la posición del punto.\n",
        "\n",
        "Teniendo la definicion punto podemos graficar un punto entre la recta y y x y lo hacemos llamando a Punto poniendo un . y despues el argumento que quieres graficar y asi ya construimos el punto.\n",
        "\n",
        "6. Documenta y prueba con algunos puntos el siguiente código:\n",
        "\n",
        "```\n",
        "#\n",
        "import matplotlib.pyplot as plt\n",
        "\n",
        "class Punto():\n",
        "    def __init__(self, x, y):\n",
        "        self.x = x\n",
        "        self.y = y\n",
        "\n",
        "    def plot(self):\n",
        "        plt.scatter(self.x, self.y, color='red', marker='o')\n",
        "        plt.xlabel('X-axis')\n",
        "        plt.ylabel('Y-axis')\n",
        "        plt.title('Gráfica del punto')\n",
        "        plt.grid(True)\n",
        "        plt.show()\n",
        "```\n",
        "\n",
        "7. Cree una clase para modelar algún objeto del mundo real y cree una nueva clase para heredar de él. Un ejemplo puede ser el siguiente. Deberías usar un ejemplo diferente y usar tantas cosas que aprendimos como sea posible.\n",
        "\n",
        "\n",
        "\n",
        "```\n",
        "# class Carro():\n",
        "    def __init__(self, marca, color):\n",
        "        self.marca = marca\n",
        "        self.color = color\n",
        "    \n",
        "    def encender(self):\n",
        "        print('!Listo para conducir!')\n",
        "        \n",
        "class Camioneta(Carro):\n",
        "    def __init__(self, marca, color, tamaño):\n",
        "        super().__init__(marca, color)\n",
        "        self.tamaño = tamaño\n",
        "        \n",
        "    def encender(self, llave):\n",
        "        if llave == 'llave_camioneta':\n",
        "            print('¡Listo para conducir!')\n",
        "        else:\n",
        "            print('La llave no es la correcta')\n",
        "            \n",
        "    def apagar(self, apagar):\n",
        "        if apagar:\n",
        "            print('¡El motor está apagado!')\n",
        "        else:\n",
        "            print('¡Sigo conduciendo!')\n",
        "\n",
        "```\n",
        "\n",
        "\n",
        "\n"
      ],
      "metadata": {
        "id": "OlqRnXzXhqwb"
      }
    },
    {
      "cell_type": "code",
      "source": [
        "import matplotlib.pyplot as plt\n",
        "\n",
        "class Punto():\n",
        "    def __init__(self, x, y):\n",
        "        self.x = x\n",
        "        self.y = y\n",
        "\n",
        "    def plot(self):\n",
        "        plt.scatter(self.x, self.y, color='red', marker='o')\n",
        "        plt.xlabel('X-axis')\n",
        "        plt.ylabel('Y-axis')\n",
        "        plt.title('Gráfica del punto')\n",
        "        plt.grid(True)\n",
        "        plt.show()"
      ],
      "metadata": {
        "id": "7skCcYA0icoq"
      },
      "execution_count": 1,
      "outputs": []
    },
    {
      "cell_type": "code",
      "source": [
        "# Queremos graficar el punto (1,5)\n",
        "\n",
        "punto = Punto(1,5) # Aquí construimos al punto"
      ],
      "metadata": {
        "id": "Vtgvvy0kwCJQ"
      },
      "execution_count": 4,
      "outputs": []
    },
    {
      "cell_type": "code",
      "source": [
        "punto.plot()"
      ],
      "metadata": {
        "colab": {
          "base_uri": "https://localhost:8080/",
          "height": 493
        },
        "id": "L7tU3bERw07m",
        "outputId": "9a549f42-22a1-4374-ebd3-b1372c2cc029"
      },
      "execution_count": 5,
      "outputs": [
        {
          "output_type": "display_data",
          "data": {
            "text/plain": [
              "<Figure size 640x480 with 1 Axes>"
            ],
            "image/png": "[encoded data removed]"
          },
          "metadata": {}
        }
      ]
    },
    {
      "cell_type": "code",
      "source": [
        "class yo():\n",
        "    def __init__(self, edad, idioma):\n",
        "        self.edad = edad\n",
        "        self.idioma = idioma\n",
        "\n",
        "    def deporte(self):\n",
        "        print('!Me gusta el deporte!')\n",
        "\n",
        "class Hija(Yo):\n",
        "    def __init__(self, edad, idioma, grado):\n",
        "        super().__init__(edad, idioma)\n",
        "        self.grado = grado\n",
        "\n",
        "    def deporte(self, llave):\n",
        "        if llave == 'llave_deporte':\n",
        "            print('Me gusta el deporte !')\n",
        "        else:\n",
        "            print('No me gusta el deporte')\n",
        "\n",
        "    def pintar(self, pintar):\n",
        "        if pintar:\n",
        "            print('Me gusta pintar!')\n",
        "        else:\n",
        "            print('¡No me gusta pintar!')"
      ],
      "metadata": {
        "id": "qddYiV3exIRH"
      },
      "execution_count": null,
      "outputs": []
    }
  ]
}